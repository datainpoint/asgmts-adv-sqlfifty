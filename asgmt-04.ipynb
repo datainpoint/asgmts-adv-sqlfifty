{
 "cells": [
  {
   "cell_type": "markdown",
   "metadata": {},
   "source": [
    "# 進階的 SQL 五十道練習\n",
    "\n",
    "> 作業四\n",
    "\n",
    "[數據點](https://www.datainpoint.com) | 郭耀仁 <yaojenkuo@datainpoint.com>"
   ]
  },
  {
   "cell_type": "markdown",
   "metadata": {
    "deletable": false
   },
   "source": [
    "## Instructions\n",
    "\n",
    "- 將可以完成指定任務的 SQL 敘述貼在 `-- BEGIN SOLUTION` 與 `-- END SOLUTION` 之間。\n",
    "- 執行測試：執行階段 -> 全部執行 -> 確定。\n",
    "- 將測試通過的結果截圖（以 .png, .jpg, .jpeg 格式儲存）上傳。"
   ]
  },
  {
   "cell_type": "code",
   "execution_count": null,
   "metadata": {},
   "outputs": [],
   "source": [
    "import unittest\n",
    "import requests\n",
    "import numpy as np\n",
    "import pandas as pd\n",
    "import sqlite3\n",
    "\n",
    "file_names = [\"imdb.db\"]\n",
    "for file_name in file_names:\n",
    "    file_url = f\"https://raw.githubusercontent.com/datainpoint/asgmts-adv-sqlfifty/main/{file_name}\"\n",
    "    r = requests.get(file_url)\n",
    "    with open(file_name , \"wb\") as f:\n",
    "        f.write(r.content)"
   ]
  },
  {
   "cell_type": "markdown",
   "metadata": {},
   "source": [
    "## 將電影的名稱更改為全大寫格式，例如 'The Shawshank Redemption' 更改為 'THE SHAWSHANK REDEMPTION'"
   ]
  },
  {
   "cell_type": "code",
   "execution_count": null,
   "metadata": {},
   "outputs": [],
   "source": [
    "update_release_year_to_dates =\\\n",
    "\"\"\"\n",
    "-- BEGIN SOLUTION\n",
    "UPDATE movies\n",
    "   SET title = UPPER(title);\n",
    "-- END SOLUTION\n",
    "\"\"\""
   ]
  },
  {
   "cell_type": "code",
   "execution_count": null,
   "metadata": {},
   "outputs": [],
   "source": [
    "class TestAssignmentFour(unittest.TestCase):\n",
    "    def test_01_update_release_year_to_dates(self):\n",
    "        table_name = \"movies\"\n",
    "        connection.execute(update_release_year_to_dates)\n",
    "        select_all_query = \"\"\"SELECT * FROM {};\"\"\".format(table_name)\n",
    "        table_select_all = pd.read_sql(select_all_query, connection)\n",
    "        titles = table_select_all[\"title\"].values\n",
    "        self.assertEqual(titles[0], \"THE SHAWSHANK REDEMPTION\")\n",
    "        self.assertEqual(titles[1], \"THE GODFATHER\")\n",
    "        self.assertEqual(titles[2], \"THE DARK KNIGHT\")\n",
    "        \n",
    "connection = sqlite3.connect('imdb.db')\n",
    "suite = unittest.TestLoader().loadTestsFromTestCase(TestAssignmentFour)\n",
    "runner = unittest.TextTestRunner(verbosity=2)\n",
    "test_results = runner.run(suite)\n",
    "number_of_failures = len(test_results.failures)\n",
    "number_of_errors = len(test_results.errors)\n",
    "number_of_test_runs = test_results.testsRun\n",
    "number_of_successes = number_of_test_runs - (number_of_failures + number_of_errors)"
   ]
  },
  {
   "cell_type": "code",
   "execution_count": null,
   "metadata": {},
   "outputs": [],
   "source": [
    "print(\"You've got {} successes among {} questions.\".format(number_of_successes, number_of_test_runs))"
   ]
  }
 ],
 "metadata": {
  "celltoolbar": "Edit Metadata",
  "kernelspec": {
   "display_name": "Python 3 (ipykernel)",
   "language": "python",
   "name": "python3"
  },
  "language_info": {
   "codemirror_mode": {
    "name": "ipython",
    "version": 3
   },
   "file_extension": ".py",
   "mimetype": "text/x-python",
   "name": "python",
   "nbconvert_exporter": "python",
   "pygments_lexer": "ipython3",
   "version": "3.10.6"
  }
 },
 "nbformat": 4,
 "nbformat_minor": 4
}
